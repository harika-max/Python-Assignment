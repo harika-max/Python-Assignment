{
  "nbformat": 4,
  "nbformat_minor": 0,
  "metadata": {
    "colab": {
      "provenance": []
    },
    "kernelspec": {
      "name": "python3",
      "display_name": "Python 3"
    },
    "language_info": {
      "name": "python"
    }
  },
  "cells": [
    {
      "cell_type": "markdown",
      "source": [
        "### Question 1: Write a Python program to count the number of characters in a string without using len function.\n",
        "\n",
        "- `sample input : `\n",
        "    - `var = 'python java'`\n",
        "- `sample output :`\n",
        "    - `result : 11`"
      ],
      "metadata": {
        "id": "nmKzpTyGGpPR"
      }
    },
    {
      "cell_type": "code",
      "source": [
        "a=\"python java\"\n",
        "b=0\n",
        "for i in a:\n",
        "  b=b+1\n",
        "print(b)"
      ],
      "metadata": {
        "colab": {
          "base_uri": "https://localhost:8080/"
        },
        "id": "R9BiP_MGG14H",
        "outputId": "4cc25407-d3db-47ae-ff74-71063249bcd6"
      },
      "execution_count": 4,
      "outputs": [
        {
          "output_type": "stream",
          "name": "stdout",
          "text": [
            "11\n"
          ]
        }
      ]
    },
    {
      "cell_type": "markdown",
      "source": [
        "### Question 2: Write a Python program to reverse a string without using [::-1]\n",
        "\n",
        "- `sample input : `\n",
        "    - `var = 'python'`\n",
        "- `sample output :`\n",
        "    - `result : nohtyp`"
      ],
      "metadata": {
        "id": "IGbh6kT5Hr3K"
      }
    },
    {
      "cell_type": "code",
      "source": [
        "m=\"python\"\n",
        "a=\" \"\n",
        "for i in m:\n",
        "  a=i+a\n",
        "print(a)"
      ],
      "metadata": {
        "colab": {
          "base_uri": "https://localhost:8080/"
        },
        "id": "ZHlM4wEJHxa2",
        "outputId": "261cccb6-0e37-4c26-9a8f-de7f3441a1ec"
      },
      "execution_count": 7,
      "outputs": [
        {
          "output_type": "stream",
          "name": "stdout",
          "text": [
            "nohtyp \n"
          ]
        }
      ]
    },
    {
      "cell_type": "markdown",
      "source": [
        "### Question 3: Write a Python program to check if a string is a palindrome don't use [::-1].\n",
        "\n",
        "- `sample input : `\n",
        "    - `var = 'NUN'`\n",
        "- `sample output :`\n",
        "    - `result : It is a Palindrome`\n",
        "    \n",
        "- `palindrome concept = https://www.dictionary.com/e/palindromic-word/#:~:text=A%20palindrome%20is%20a%20word,roots%20in%20the%20early%201600s.`"
      ],
      "metadata": {
        "id": "nLx9NflQJsw4"
      }
    },
    {
      "cell_type": "code",
      "source": [
        "m = 'nun'\n",
        "a=''\n",
        "for i in m:\n",
        "  a=i+a\n",
        "if m==a:\n",
        "  print(f'{a} is palindrome')\n",
        "else:\n",
        "  print(f'{a} is not palindrome')"
      ],
      "metadata": {
        "colab": {
          "base_uri": "https://localhost:8080/"
        },
        "id": "QTiJYSGuJuFi",
        "outputId": "92f5ea34-0c57-4134-b863-9a1af2b6eda6"
      },
      "execution_count": 12,
      "outputs": [
        {
          "output_type": "stream",
          "name": "stdout",
          "text": [
            "nun is palindrome\n"
          ]
        }
      ]
    },
    {
      "cell_type": "markdown",
      "source": [
        "### Question 4: Write a Python program to find the most common character in a string.\n",
        "\n",
        "- `sample input : `\n",
        "    - `var = 'Hello world '`\n",
        "- `sample output :`\n",
        "    - `result : l, because l is repeating 3 times `"
      ],
      "metadata": {
        "id": "tHAb57lpIRL6"
      }
    },
    {
      "cell_type": "code",
      "source": [
        "a=\"hello world\"\n",
        "print(a.count(\"l\"))"
      ],
      "metadata": {
        "colab": {
          "base_uri": "https://localhost:8080/"
        },
        "id": "0INDNomDISfG",
        "outputId": "37f2e7ce-cf68-468b-f99a-5f766cb7805a"
      },
      "execution_count": 8,
      "outputs": [
        {
          "output_type": "stream",
          "name": "stdout",
          "text": [
            "3\n"
          ]
        }
      ]
    },
    {
      "cell_type": "markdown",
      "source": [
        "### Question 5: Write a Python program to check if two strings are anagrams.\n",
        "\n",
        "- `sample input : `\n",
        "    - `var1 = 'listen'`\n",
        "    - `var2 = 'silent'`\n",
        "- `sample output :`\n",
        "    - `result : both are anagram because characters in var2 is in var1`"
      ],
      "metadata": {
        "id": "MDDE3ezoOtgq"
      }
    },
    {
      "cell_type": "code",
      "source": [
        "#pass"
      ],
      "metadata": {
        "id": "-oU_W_MMO7fW"
      },
      "execution_count": null,
      "outputs": []
    },
    {
      "cell_type": "markdown",
      "source": [
        "### Question 6: Write a Python program to remove all the vowels from a string.\n",
        "\n",
        "- `sample input : `\n",
        "    - `var = 'python'`\n",
        "- `sample output :`\n",
        "    - `result : pythn , because vowels are [AEIOUaeiou]`"
      ],
      "metadata": {
        "id": "I4lA-yyZIqLL"
      }
    },
    {
      "cell_type": "code",
      "source": [
        "var={'a','e','i','o','u','A','E','I','O','U'}\n",
        "m='python'\n",
        "b=''\n",
        "for i in m:\n",
        "  if i not in var:\n",
        "          b=b+i\n",
        "\n",
        "\n",
        "print(b)"
      ],
      "metadata": {
        "colab": {
          "base_uri": "https://localhost:8080/"
        },
        "id": "i8GyYuoKIrVH",
        "outputId": "6ce39718-7eb8-4146-88be-a10847dbe572"
      },
      "execution_count": 10,
      "outputs": [
        {
          "output_type": "stream",
          "name": "stdout",
          "text": [
            "pythn\n"
          ]
        }
      ]
    },
    {
      "cell_type": "markdown",
      "source": [
        "### Question 7: Write a Python program to find the longest word in a string.\n",
        "\n",
        "- `sample input : `\n",
        "    - `var = 'python is Easy Language'`\n",
        "- `sample output :`\n",
        "    - `result : Language`"
      ],
      "metadata": {
        "id": "NPKUgtggO_ys"
      }
    },
    {
      "cell_type": "code",
      "source": [
        "#pass"
      ],
      "metadata": {
        "id": "2TkljAzEPGa9"
      },
      "execution_count": null,
      "outputs": []
    },
    {
      "cell_type": "markdown",
      "source": [
        "### Question 8: Write a Python program to capitalize the first letter of each word in a string [dont use built-in-function title].\n",
        "\n",
        "- `sample input : `\n",
        "    - `var = 'python is easy'`\n",
        "- `sample output :`\n",
        "    - `result : Python Is Easy`"
      ],
      "metadata": {
        "id": "QdOlU_K0PJW0"
      }
    },
    {
      "cell_type": "code",
      "source": [
        "#pass"
      ],
      "metadata": {
        "id": "aUBt8ILAPP4_"
      },
      "execution_count": null,
      "outputs": []
    },
    {
      "cell_type": "markdown",
      "source": [
        "### Question 9: Write a Python program to find the frequency of each character in a string.\n",
        "\n",
        "- `sample input : `\n",
        "    - `var = 'sharuk khan'`\n",
        "- `sample output :`\n",
        "    - `result : {'s': 1, 'h': 2, 'a': 2, 'r': 1, 'u': 1, 'k': 2, ' ': 1, 'n': 1}`"
      ],
      "metadata": {
        "id": "rXcOhDDePZjr"
      }
    },
    {
      "cell_type": "code",
      "source": [
        "#pass"
      ],
      "metadata": {
        "id": "LVlSZ7sqPacl"
      },
      "execution_count": null,
      "outputs": []
    },
    {
      "cell_type": "markdown",
      "source": [
        "### Question 10: write a python programme to find the sum of all the even characters based on Ascii values\n",
        "\n",
        "- `sample input : `\n",
        "    - `var = 'sharuk khan'`\n",
        "- `sample output :`\n",
        "    - `result : 464`\n"
      ],
      "metadata": {
        "id": "4L3LcuxqJPad"
      }
    },
    {
      "cell_type": "code",
      "source": [
        "var = 'sharuk khan'\n",
        "m = 0\n",
        "for i in var:\n",
        "    if ord(i) % 2 == 0:\n",
        "        m =m+ ord(i)\n",
        "\n",
        "print(m)"
      ],
      "metadata": {
        "colab": {
          "base_uri": "https://localhost:8080/"
        },
        "id": "DB_hYiqIJQ0p",
        "outputId": "2434317f-19a3-45ca-d75a-62281fca3c5d"
      },
      "execution_count": 11,
      "outputs": [
        {
          "output_type": "stream",
          "name": "stdout",
          "text": [
            "464\n"
          ]
        }
      ]
    }
  ]
}